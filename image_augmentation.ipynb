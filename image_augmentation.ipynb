{
 "cells": [
  {
   "cell_type": "code",
   "execution_count": 4,
   "metadata": {
    "ExecuteTime": {
     "end_time": "2021-04-22T08:52:57.959033Z",
     "start_time": "2021-04-22T08:52:57.947092Z"
    },
    "scrolled": true
   },
   "outputs": [
    {
     "name": "stdout",
     "output_type": "stream",
     "text": [
      "all the picture have been appent to imglist\n"
     ]
    }
   ],
   "source": [
    "import cv2\n",
    "from imgaug import augmenters as iaa\n",
    "import os\n",
    " \n",
    "# Sometimes(0.5, ...) applies the given augmenter in 50% of all cases,\n",
    "# e.g. Sometimes(0.5, GaussianBlur(0.3)) would blur roughly every second image.\n",
    "sometimes = lambda aug: iaa.Sometimes(0.5, aug)\n",
    " \n",
    "\n",
    "seq1 = iaa.Sequential(iaa.Crop(px=(5, 5)))\n",
    "seq2 = iaa.Sequential(iaa.Fliplr(1))\n",
    "seq3 = iaa.Sequential(iaa.Sharpen(alpha=(0.2, 0.5), lightness=(0.75, 1.2)))\n",
    "seq4 = iaa.Sequential(iaa.ContrastNormalization((0.8, 1.2)))\n",
    "seq5 = iaa.Sequential(iaa.Crop(px=(10, 10)))\n",
    "seqli = [seq1,seq2,seq3,seq4,seq5]\n",
    "# Image file path \n",
    "path = r'C:\\Users\\hhwgq\\Desktop\\input'\n",
    "savedpath = r'C:\\Users\\hhwgq\\Desktop\\output'\n",
    " \n",
    "imglist=[]\n",
    "filelist = os.listdir(path)\n",
    " \n",
    "# For loop the folders to be enhanced and save all the pictures in the imglist \n",
    "for item in filelist:\n",
    "    img = cv2.imread(path + '\\\\'+item)\n",
    "#     print('item is ',item)\n",
    "#     print('img is ',img)\n",
    "#     images = load_batch(batch_idx)\n",
    "    imglist.append(img)\n",
    "#     print('imglist is ' ,len(imglist))\n",
    "print('all the picture have been appent to imglist')\n",
    " \n"
   ]
  },
  {
   "cell_type": "code",
   "execution_count": 5,
   "metadata": {
    "ExecuteTime": {
     "end_time": "2021-04-22T08:52:59.399210Z",
     "start_time": "2021-04-22T08:52:59.341341Z"
    }
   },
   "outputs": [
    {
     "name": "stdout",
     "output_type": "stream",
     "text": [
      "image of count0 index0 has been writen\n",
      "image of count0 index1 has been writen\n",
      "image of count0 index2 has been writen\n",
      "image of count0 index3 has been writen\n",
      "image of count1 index0 has been writen\n",
      "image of count1 index1 has been writen\n",
      "image of count1 index2 has been writen\n",
      "image of count1 index3 has been writen\n",
      "image of count2 index0 has been writen\n",
      "image of count2 index1 has been writen\n",
      "image of count2 index2 has been writen\n",
      "image of count2 index3 has been writen\n",
      "image of count3 index0 has been writen\n",
      "image of count3 index1 has been writen\n",
      "image of count3 index2 has been writen\n",
      "image of count3 index3 has been writen\n",
      "image of count4 index0 has been writen\n",
      "image of count4 index1 has been writen\n",
      "image of count4 index2 has been writen\n",
      "image of count4 index3 has been writen\n"
     ]
    }
   ],
   "source": [
    "#Enhancing the pictures in the folder, loop 100 times \n",
    "for i in range(len(seqli)):\n",
    "    images_aug = seqli[i].augment_images(imglist)\n",
    "    for index in range(len(images_aug)):\n",
    "        filename = str(i) + str(index) +'.jpg'\n",
    "        # save aug files\n",
    "        cv2.imwrite(savedpath + '\\\\'+filename,images_aug[index])\n",
    "        print('image of count%s index%s has been writen'%(i,index))"
   ]
  }
 ],
 "metadata": {
  "kernelspec": {
   "display_name": "Python 3.8.3 64-bit ('base': conda)",
   "language": "python",
   "name": "python38364bitbaseconda739e6881ae8943949881bbdc080d8bea"
  },
  "language_info": {
   "codemirror_mode": {
    "name": "ipython",
    "version": 3
   },
   "file_extension": ".py",
   "mimetype": "text/x-python",
   "name": "python",
   "nbconvert_exporter": "python",
   "pygments_lexer": "ipython3",
   "version": "3.8.8"
  },
  "toc": {
   "base_numbering": 1,
   "nav_menu": {},
   "number_sections": false,
   "sideBar": true,
   "skip_h1_title": false,
   "title_cell": "Table of Contents",
   "title_sidebar": "Contents",
   "toc_cell": false,
   "toc_position": {},
   "toc_section_display": true,
   "toc_window_display": false
  },
  "varInspector": {
   "cols": {
    "lenName": 16,
    "lenType": 16,
    "lenVar": 40
   },
   "kernels_config": {
    "python": {
     "delete_cmd_postfix": "",
     "delete_cmd_prefix": "del ",
     "library": "var_list.py",
     "varRefreshCmd": "print(var_dic_list())"
    },
    "r": {
     "delete_cmd_postfix": ") ",
     "delete_cmd_prefix": "rm(",
     "library": "var_list.r",
     "varRefreshCmd": "cat(var_dic_list()) "
    }
   },
   "types_to_exclude": [
    "module",
    "function",
    "builtin_function_or_method",
    "instance",
    "_Feature"
   ],
   "window_display": false
  }
 },
 "nbformat": 4,
 "nbformat_minor": 4
}