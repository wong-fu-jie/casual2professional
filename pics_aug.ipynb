{
 "cells": [
  {
   "cell_type": "code",
   "execution_count": null,
   "metadata": {
    "ExecuteTime": {
     "end_time": "2021-03-27T12:02:55.587933Z",
     "start_time": "2021-03-27T12:02:44.387874Z"
    }
   },
   "outputs": [],
   "source": [
    "pip install imgaug"
   ]
  },
  {
   "cell_type": "code",
   "execution_count": null,
   "metadata": {
    "ExecuteTime": {
     "end_time": "2021-03-28T02:28:58.358512Z",
     "start_time": "2021-03-28T02:28:58.345546Z"
    }
   },
   "outputs": [],
   "source": [
    "import cv2\n",
    "from imgaug import augmenters as iaa\n",
    "import os\n",
    " \n",
    "# Sometimes(0.5, ...) applies the given augmenter in 50% of all cases,\n",
    "# e.g. Sometimes(0.5, GaussianBlur(0.3)) would blur roughly every second image.\n",
    "sometimes = lambda aug: iaa.Sometimes(0.5, aug)\n",
    " \n",
    "# Define transformation\n",
    "seq = iaa.Sequential([\n",
    " \n",
    "    # choose 5 types of transformation\n",
    "    iaa.SomeOf((0, 5),\n",
    "        [\n",
    "                iaa.Fliplr(0.5), # Mirror and flip 50% of the image horizontally \n",
    "#                 iaa.Flipud(0.5), # Mirror and flip 50% of the image vertically    \n",
    "                                                                \n",
    "                # Convert some images into their superpixel representation,\n",
    "                # sample between 20 and 200 superpixels per image, but do\n",
    "                # not replace all superpixels with their average, only\n",
    "                # some of them (p_replace).\n",
    "                sometimes(\n",
    "                    iaa.Superpixels(\n",
    "                        p_replace=(0, 1.0),\n",
    "                        n_segments=(20, 200)\n",
    "                    )\n",
    "                ),\n",
    " \n",
    "                # Blur each image with varying strength using\n",
    "                # gaussian blur (sigma between 0 and 3.0),\n",
    "                # average/uniform blur (kernel size between 2x2 and 7x7)\n",
    "                # median blur (kernel size between 3x3 and 11x11).\n",
    "                iaa.OneOf([\n",
    "                    iaa.GaussianBlur((0, 3.0)),\n",
    "                    iaa.AverageBlur(k=(2, 7)),\n",
    "                    iaa.MedianBlur(k=(3, 11)),\n",
    "                ]),\n",
    " \n",
    "                # Sharpen each image, overlay the result with the original\n",
    "                # image using an alpha between 0 (no sharpening) and 1\n",
    "                # (full sharpening effect).\n",
    "                iaa.Sharpen(alpha=(0, 1.0), lightness=(0.75, 1.5)),\n",
    " \n",
    "                # Same as sharpen, but for an embossing effect.\n",
    "                iaa.Emboss(alpha=(0, 1.0), strength=(0, 2.0)),\n",
    " \n",
    " \n",
    "                # Add gaussian noise to some images.\n",
    "                # In 50% of these cases, the noise is randomly sampled per\n",
    "                # channel and pixel.\n",
    "                # In the other 50% of all cases it is sampled once per\n",
    "                # pixel (i.e. brightness change).\n",
    "                iaa.AdditiveGaussianNoise(\n",
    "                    loc=0, scale=(0.0, 0.05*255)\n",
    "                ),\n",
    " \n",
    "                # Invert each image's chanell with 5% probability.\n",
    "                # This sets each pixel value v to 255-v.\n",
    "                iaa.Invert(0.05, per_channel=True), # invert color channels\n",
    " \n",
    "                # Add a value of -10 to 10 to each pixel.\n",
    "                iaa.Add((-10, 10), per_channel=0.5),\n",
    " \n",
    "                # Add random values between -40 and 40 to images, with each value being sampled per pixel:\n",
    "                iaa.AddElementwise((-40, 40)),\n",
    " \n",
    "                # Change brightness of images (50-150% of original value).\n",
    "                iaa.Multiply((0.5, 1.5)),\n",
    " \n",
    "                # Multiply each pixel with a random value between 0.5 and 1.5.\n",
    "                iaa.MultiplyElementwise((0.5, 1.5)),\n",
    " \n",
    "                # Improve or worsen the contrast of images.\n",
    "                iaa.ContrastNormalization((0.5, 2.0)),\n",
    " \n",
    " \n",
    "        ],\n",
    "        # do all of the above augmentations in random order\n",
    "        random_order=True\n",
    "    )\n",
    " \n",
    "],random_order=True) #apply augmenters in random order\n",
    " \n",
    "# Image file path \n",
    "path = r'D:\\jupyter\\5151\\GP\\image_input'\n",
    "savedpath = r'D:\\jupyter\\5151\\GP\\image_output'\n",
    " \n",
    "imglist=[]\n",
    "filelist = os.listdir(path)\n",
    " \n",
    "# For loop the folders to be enhanced and save all the pictures in the imglist \n",
    "for item in filelist:\n",
    "    img = cv2.imread(path + '\\\\'+item)\n",
    "#     print('item is ',item)\n",
    "#     print('img is ',img)\n",
    "#     images = load_batch(batch_idx)\n",
    "    imglist.append(img)\n",
    "#     print('imglist is ' ,len(imglist))\n",
    "print('all the picture have been appent to imglist')\n",
    " \n"
   ]
  },
  {
   "cell_type": "code",
   "execution_count": null,
   "metadata": {
    "ExecuteTime": {
     "end_time": "2021-03-28T02:29:08.705149Z",
     "start_time": "2021-03-28T02:29:07.833451Z"
    }
   },
   "outputs": [],
   "source": [
    "#Enhancing the pictures in the folder, loop 100 times \n",
    "for count in range(100):\n",
    "    images_aug = seq.augment_images(imglist)\n",
    "    for index in range(len(images_aug)):\n",
    "        filename = str(count) + str(index) +'.jpg'\n",
    "        #保存图片\n",
    "        cv2.imwrite(savedpath + '\\\\'+filename,images_aug[index])\n",
    "        print('image of count%s index%s has been writen'%(count,index))"
   ]
  },
  {
   "cell_type": "code",
   "execution_count": null,
   "metadata": {
    "ExecuteTime": {
     "end_time": "2021-03-27T12:17:30.128899Z",
     "start_time": "2021-03-27T12:17:30.125907Z"
    }
   },
   "outputs": [],
   "source": [
    "\n"
   ]
  },
  {
   "cell_type": "code",
   "execution_count": null,
   "metadata": {},
   "outputs": [],
   "source": []
  }
 ],
 "metadata": {
  "kernelspec": {
   "display_name": "Python 3",
   "language": "python",
   "name": "python3"
  },
  "language_info": {
   "codemirror_mode": {
    "name": "ipython",
    "version": 3
   },
   "file_extension": ".py",
   "mimetype": "text/x-python",
   "name": "python",
   "nbconvert_exporter": "python",
   "pygments_lexer": "ipython3",
   "version": "3.8.5"
  },
  "toc": {
   "base_numbering": 1,
   "nav_menu": {},
   "number_sections": false,
   "sideBar": true,
   "skip_h1_title": false,
   "title_cell": "Table of Contents",
   "title_sidebar": "Contents",
   "toc_cell": false,
   "toc_position": {},
   "toc_section_display": true,
   "toc_window_display": false
  },
  "varInspector": {
   "cols": {
    "lenName": 16,
    "lenType": 16,
    "lenVar": 40
   },
   "kernels_config": {
    "python": {
     "delete_cmd_postfix": "",
     "delete_cmd_prefix": "del ",
     "library": "var_list.py",
     "varRefreshCmd": "print(var_dic_list())"
    },
    "r": {
     "delete_cmd_postfix": ") ",
     "delete_cmd_prefix": "rm(",
     "library": "var_list.r",
     "varRefreshCmd": "cat(var_dic_list()) "
    }
   },
   "types_to_exclude": [
    "module",
    "function",
    "builtin_function_or_method",
    "instance",
    "_Feature"
   ],
   "window_display": false
  }
 },
 "nbformat": 4,
 "nbformat_minor": 4
}
